{
 "cells": [
  {
   "cell_type": "markdown",
   "metadata": {},
   "source": [
    "### 1.Build the docker image required for training.\n",
    "\n",
    "We will be using [Neuronx-nemo-megatron](https://github.com/aws-neuron/neuronx-nemo-megatron) to pretrain/fine tune llama 7b model using AWS Trn1 (trn1.32xlarge) instance. Neuronx-nemo-megatron is a custom open source library that includes modfied version of the open-source packages Nemo and Apex that have been adapted for use with AWS Neuron and AWS Trn1 instances. \n",
    "\n",
    "We will start with building an custom docker image extending from [AWS Neuron Deep Learning container](https://github.com/aws/deep-learning-containers/blob/master/available_images.md#neuron-containers) for SageMaker and installing the Neuronx-nemo-megatron library. Please make sure your host instance has docker setup and have necessary permissions to create and push images to Amazon ECR.\n",
    "\n",
    "Note: You can use SageMaker Notebook instances to build the image as a quick mechanism as it comes with Docker preinstalled. \n",
    "\n",
    "Run the below cells to trigger the docker image build process. "
   ]
  },
  {
   "cell_type": "markdown",
   "metadata": {},
   "source": [
    "We will start by installing/importing necessary packages. "
   ]
  },
  {
   "cell_type": "code",
   "execution_count": null,
   "metadata": {},
   "outputs": [],
   "source": [
    "%pip install --upgrade sagemaker"
   ]
  },
  {
   "cell_type": "code",
   "execution_count": null,
   "metadata": {},
   "outputs": [],
   "source": [
    "%%time\n",
    "import os\n",
    "\n",
    "import boto3\n",
    "import sagemaker\n",
    "from sagemaker import get_execution_role\n",
    "from sagemaker.huggingface import HuggingFace\n",
    "\n",
    "role = (\n",
    "    get_execution_role()\n",
    ")  # provide a pre-existing role ARN as an alternative to creating a new role\n",
    "print(f\"SageMaker Execution Role: {role}\")\n",
    "\n",
    "client = boto3.client(\"sts\")\n",
    "account = client.get_caller_identity()[\"Account\"]\n",
    "print(f\"AWS account: {account}\")\n",
    "\n",
    "session = boto3.session.Session()\n",
    "region = session.region_name\n",
    "print(f\"AWS region: {region}\")\n"
   ]
  },
  {
   "cell_type": "code",
   "execution_count": null,
   "metadata": {},
   "outputs": [],
   "source": [
    "dlc_account_id = 763104351884  # account where AWS Deep learning containers are saved."
   ]
  },
  {
   "cell_type": "code",
   "execution_count": null,
   "metadata": {},
   "outputs": [],
   "source": [
    "image = (\n",
    "    \"nemo-megatron-neuron-sm-dlc\" \n",
    ")\n",
    "tag = \"latest\""
   ]
  },
  {
   "cell_type": "markdown",
   "metadata": {},
   "source": [
    "### Trigger the docker build\n",
    "\n",
    "The below code cells will trigger the docker_build.sh script which builds the docker images and upload to ECR "
   ]
  },
  {
   "cell_type": "code",
   "execution_count": null,
   "metadata": {},
   "outputs": [],
   "source": [
    "!pygmentize build/docker_build.sh"
   ]
  },
  {
   "cell_type": "code",
   "execution_count": null,
   "metadata": {},
   "outputs": [],
   "source": [
    "%%time\n",
    "\n",
    "! sudo bash build/docker_build.sh $dlc_account_id $region $image $tag"
   ]
  },
  {
   "cell_type": "code",
   "execution_count": null,
   "metadata": {},
   "outputs": [],
   "source": [
    "docker_image = f\"{account}.dkr.ecr.{region}.amazonaws.com/{image}:{tag}\""
   ]
  },
  {
   "cell_type": "code",
   "execution_count": null,
   "metadata": {},
   "outputs": [],
   "source": [
    "print(f\"Training image URL {docker_image}\")"
   ]
  },
  {
   "cell_type": "code",
   "execution_count": null,
   "metadata": {},
   "outputs": [],
   "source": [
    "%store docker_image # Use store magic to save the docker image URL to use in subsequent notebooks."
   ]
  },
  {
   "cell_type": "code",
   "execution_count": null,
   "metadata": {},
   "outputs": [],
   "source": []
  }
 ],
 "metadata": {
  "kernelspec": {
   "display_name": "Python 3",
   "language": "python",
   "name": "python3"
  },
  "language_info": {
   "codemirror_mode": {
    "name": "ipython",
    "version": 3
   },
   "file_extension": ".py",
   "mimetype": "text/x-python",
   "name": "python",
   "nbconvert_exporter": "python",
   "pygments_lexer": "ipython3",
   "version": "3.10.10"
  },
  "orig_nbformat": 4
 },
 "nbformat": 4,
 "nbformat_minor": 2
}
